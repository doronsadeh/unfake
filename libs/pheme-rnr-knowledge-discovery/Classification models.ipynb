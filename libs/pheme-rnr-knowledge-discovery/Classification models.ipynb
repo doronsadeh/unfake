{
 "cells": [
  {
   "cell_type": "markdown",
   "metadata": {
    "deletable": true,
    "editable": true,
    "slideshow": {
     "slide_type": "slide"
    }
   },
   "source": [
    "# Classification models and feature selection\n",
    "In this notebook, we train some classification models based on the thread level features. Then we use the weights in the linear models to select the most related features in detecting rumour.\n",
    "The steps include:\n",
    "1. Load dependancies\n",
    "2. Read the thread level features from the csv file containing the samples for each event\n",
    "3. Define some classification models to be trained\n",
    "4. Train and test the models on the dataset:\n",
    "    4.1. Decide on the train data and the test data\n",
    "    4.2. Train and test "
   ]
  },
  {
   "cell_type": "markdown",
   "metadata": {
    "deletable": true,
    "editable": true,
    "slideshow": {
     "slide_type": "slide"
    }
   },
   "source": [
    "## Load dependencies for this Jupyter Notebook\n",
    "We need the function to read the thread level csv files. We also need to plot the results. Some classification models from Scikit Learn are also imported."
   ]
  },
  {
   "cell_type": "code",
   "execution_count": 1,
   "metadata": {
    "collapsed": true,
    "deletable": true,
    "editable": true,
    "slideshow": {
     "slide_type": "fragment"
    }
   },
   "outputs": [],
   "source": [
    "# Load dependencies for this Jupyter Notebook\n",
    "import pandas as pd\n",
    "import time\n",
    "import numpy as np\n",
    "from functools import reduce\n",
    "from lib.util import fetch_thread\n",
    "import matplotlib.pyplot as plt\n",
    "\n",
    "import seaborn as sns\n",
    "\n",
    "#Train and Test preprocessing\n",
    "from sklearn.model_selection import train_test_split\n",
    "from sklearn import preprocessing\n",
    "\n",
    "#Classifiers:\n",
    "from sklearn import svm\n",
    "from sklearn.tree import DecisionTreeClassifier\n",
    "from sklearn.ensemble import RandomForestClassifier, AdaBoostClassifier\n",
    "from sklearn.neighbors import KNeighborsClassifier\n",
    "from sklearn.gaussian_process import GaussianProcessClassifier\n",
    "from sklearn.gaussian_process import GaussianProcessClassifier\n",
    "from sklearn.gaussian_process.kernels import RBF"
   ]
  },
  {
   "cell_type": "markdown",
   "metadata": {
    "deletable": true,
    "editable": true,
    "slideshow": {
     "slide_type": "slide"
    }
   },
   "source": [
    "### Read CSV file for thread level features and separate is_rumor tag with data:\n",
    "For each event, fetch the thread level features and store them in a dictionary. "
   ]
  },
  {
   "cell_type": "code",
   "execution_count": 3,
   "metadata": {
    "collapsed": true,
    "deletable": true,
    "editable": true,
    "slideshow": {
     "slide_type": "fragment"
    }
   },
   "outputs": [],
   "source": [
    "events=[\n",
    "            \"germanwings-crash\",\n",
    "            \"sydneysiege\",\n",
    "            \"ottawashooting\",\n",
    "            \"ferguson\",\n",
    "            \"charliehebdo\",\n",
    "        ]\n",
    "\n",
    "events_threads={}\n",
    "for event in events:\n",
    "    X,y=fetch_thread(event)\n",
    "    X=X.drop(X.columns.values[np.where(np.isnan(X.values))[1]],axis=1)\n",
    "    events_threads[event]={'X':X.values,'y':y.values,'columns':X.columns}"
   ]
  },
  {
   "cell_type": "markdown",
   "metadata": {
    "deletable": true,
    "editable": true,
    "slideshow": {
     "slide_type": "slide"
    }
   },
   "source": [
    "### Used functions:\n",
    "* **test_models**: given a list of classification models and train/test data, train the models on the data and report the train and test accuracy.\n",
    "* **split_train_and_test_data**: given the names of some of the events for training and testing, split the data into train and test data:\n",
    "    * If an event should go in both the train and test data, split the data in that event into 75% train data and 25% test data. \n",
    "    * If an event should go in only train or test data, store all the samples in that event in the respective train or test set."
   ]
  },
  {
   "cell_type": "code",
   "execution_count": 4,
   "metadata": {
    "collapsed": true,
    "deletable": true,
    "editable": true,
    "slideshow": {
     "slide_type": "fragment"
    }
   },
   "outputs": [],
   "source": [
    "def test_models(models,X_train, X_test, y_train, y_test):\n",
    "    for model_name in models:\n",
    "        model=models[model_name]\n",
    "        model.fit(X_train,y_train)\n",
    "        y_test_hat=model.predict(X_test)\n",
    "        print('%s train accuracy:' % model_name, np.mean(model.predict(X_train)==y_train))\n",
    "        print('%s test accuracy:' % model_name, np.mean(y_test_hat==y_test))\n",
    "        print()\n",
    "        \n",
    "def split_train_and_test_data(train_events,test_events):\n",
    "    d=events_threads[train_events[0]]['X'].shape[1]\n",
    "    X_train=np.zeros((0,d))\n",
    "    X_test=np.zeros((0,d))\n",
    "    y_train=np.zeros((0))\n",
    "    y_test=np.zeros((0))\n",
    "    for event in train_events:\n",
    "        if event in test_events:\n",
    "            X_train1, X_test1, y_train1, y_test1 = train_test_split(events_threads[event]['X'], events_threads[event]['y'], test_size=0.25, random_state=1)\n",
    "            X_train=np.concatenate((X_train,X_train1),axis=0)\n",
    "            y_train=np.concatenate((y_train,y_train1),axis=None)  \n",
    "            X_test=np.concatenate((X_test,X_test1),axis=0)\n",
    "            y_test=np.concatenate((y_test,y_test1),axis=None)\n",
    "        else:\n",
    "            X_train=np.concatenate((X_train,events_threads[event]['X']),axis=0)\n",
    "            y_train=np.concatenate((y_train,events_threads[event]['y']),axis=0)\n",
    "\n",
    "\n",
    "    for event in test_events:\n",
    "        if event not in train_events:\n",
    "            X_test=np.concatenate((X_test,events_threads[event]['X']),axis=0)\n",
    "            y_test=np.concatenate((y_test,events_threads[event]['y']),axis=0)\n",
    "\n",
    "    le = preprocessing.LabelEncoder()\n",
    "    le.fit(y_train)\n",
    "    y_train=le.transform(y_train)\n",
    "    y_test=le.transform(y_test)\n",
    "    return X_train, X_test, y_train, y_test\n"
   ]
  },
  {
   "cell_type": "markdown",
   "metadata": {
    "deletable": true,
    "editable": true,
    "slideshow": {
     "slide_type": "slide"
    }
   },
   "source": [
    "## Testing different Classification Models on Different parts of dataset\n",
    "### Models dictionary:"
   ]
  },
  {
   "cell_type": "code",
   "execution_count": 5,
   "metadata": {
    "collapsed": true,
    "deletable": true,
    "editable": true,
    "slideshow": {
     "slide_type": "fragment"
    }
   },
   "outputs": [],
   "source": [
    "models={\n",
    "    'LinearSVC_with_L1_Regularization' : svm.LinearSVC(penalty='l1',dual=False,max_iter=3000),\n",
    "    'linear_SVM':svm.SVC(gamma='scale', kernel='linear'),\n",
    "    'SVM_with_RBF_kernel': svm.SVC(gamma='scale', kernel='rbf'),\n",
    "    'SVM_with_sigmoid_kernel' : svm.SVC(gamma='scale', kernel='sigmoid'),\n",
    "    'KNN_with_k=5':KNeighborsClassifier(n_neighbors=5),\n",
    "    'Decision_Tree_Classifier':DecisionTreeClassifier(random_state=0),\n",
    "    'Random_Forest_Classifier_n=100_maxDepth=3':RandomForestClassifier(n_estimators=100, max_depth=3, random_state=4),\n",
    "    'AdaBoost_n=100':AdaBoostClassifier(n_estimators=100),\n",
    "    'Gaussian_Process_Classifier':GaussianProcessClassifier(1.0 * RBF(1.0)),\n",
    "}"
   ]
  },
  {
   "cell_type": "markdown",
   "metadata": {
    "deletable": true,
    "editable": true,
    "slideshow": {
     "slide_type": "slide"
    }
   },
   "source": [
    "### 1. Train and test on the *charliehebdo* event:\n",
    "This is the largest event."
   ]
  },
  {
   "cell_type": "code",
   "execution_count": 6,
   "metadata": {
    "collapsed": false,
    "deletable": true,
    "editable": true,
    "slideshow": {
     "slide_type": "fragment"
    }
   },
   "outputs": [
    {
     "name": "stdout",
     "output_type": "stream",
     "text": [
      "LinearSVC_with_L1_Regularization train accuracy: 0.820786142571619\n",
      "LinearSVC_with_L1_Regularization test accuracy: 0.8023952095808383\n",
      "\n",
      "linear_SVM train accuracy: 0.8254497001998667\n",
      "linear_SVM test accuracy: 0.8023952095808383\n",
      "\n",
      "SVM_with_RBF_kernel train accuracy: 0.8307794803464357\n",
      "SVM_with_RBF_kernel test accuracy: 0.7764471057884231\n",
      "\n",
      "SVM_with_sigmoid_kernel train accuracy: 0.7581612258494337\n",
      "SVM_with_sigmoid_kernel test accuracy: 0.7445109780439122\n",
      "\n",
      "KNN_with_k=5 train accuracy: 0.8294470353097935\n",
      "KNN_with_k=5 test accuracy: 0.7445109780439122\n",
      "\n",
      "Decision_Tree_Classifier train accuracy: 1.0\n",
      "Decision_Tree_Classifier test accuracy: 0.7784431137724551\n",
      "\n",
      "Random_Forest_Classifier_n=100_maxDepth=3 train accuracy: 0.7968021319120586\n",
      "Random_Forest_Classifier_n=100_maxDepth=3 test accuracy: 0.782435129740519\n",
      "\n",
      "AdaBoost_n=100 train accuracy: 0.9127248500999334\n",
      "AdaBoost_n=100 test accuracy: 0.8283433133732535\n",
      "\n",
      "Gaussian_Process_Classifier train accuracy: 1.0\n",
      "Gaussian_Process_Classifier test accuracy: 0.6946107784431138\n",
      "\n"
     ]
    }
   ],
   "source": [
    "X_train, X_test, y_train, y_test=split_train_and_test_data(['charliehebdo'],['charliehebdo'])\n",
    "test_models(models,X_train, X_test, y_train, y_test)"
   ]
  },
  {
   "cell_type": "markdown",
   "metadata": {
    "deletable": true,
    "editable": true,
    "slideshow": {
     "slide_type": "slide"
    }
   },
   "source": [
    "### 2. Train and test on the *charliehebdo* and *sydneysiege* events:"
   ]
  },
  {
   "cell_type": "code",
   "execution_count": 7,
   "metadata": {
    "collapsed": false,
    "deletable": true,
    "editable": true,
    "scrolled": true,
    "slideshow": {
     "slide_type": "fragment"
    }
   },
   "outputs": [
    {
     "name": "stderr",
     "output_type": "stream",
     "text": [
      "C:\\Users\\steph\\Anaconda3\\lib\\site-packages\\sklearn\\svm\\base.py:922: ConvergenceWarning: Liblinear failed to converge, increase the number of iterations.\n",
      "  \"the number of iterations.\", ConvergenceWarning)\n"
     ]
    },
    {
     "name": "stdout",
     "output_type": "stream",
     "text": [
      "LinearSVC_with_L1_Regularization train accuracy: 0.7470588235294118\n",
      "LinearSVC_with_L1_Regularization test accuracy: 0.7396226415094339\n",
      "\n",
      "linear_SVM train accuracy: 0.7373949579831933\n",
      "linear_SVM test accuracy: 0.70062893081761\n",
      "\n",
      "SVM_with_RBF_kernel train accuracy: 0.819327731092437\n",
      "SVM_with_RBF_kernel test accuracy: 0.7257861635220125\n",
      "\n",
      "SVM_with_sigmoid_kernel train accuracy: 0.66890756302521\n",
      "SVM_with_sigmoid_kernel test accuracy: 0.6792452830188679\n",
      "\n",
      "KNN_with_k=5 train accuracy: 0.815546218487395\n",
      "KNN_with_k=5 test accuracy: 0.7119496855345911\n",
      "\n",
      "Decision_Tree_Classifier train accuracy: 1.0\n",
      "Decision_Tree_Classifier test accuracy: 0.7345911949685534\n",
      "\n",
      "Random_Forest_Classifier_n=100_maxDepth=3 train accuracy: 0.7521008403361344\n",
      "Random_Forest_Classifier_n=100_maxDepth=3 test accuracy: 0.7320754716981132\n",
      "\n",
      "AdaBoost_n=100 train accuracy: 0.8495798319327731\n",
      "AdaBoost_n=100 test accuracy: 0.7685534591194969\n",
      "\n",
      "Gaussian_Process_Classifier train accuracy: 1.0\n",
      "Gaussian_Process_Classifier test accuracy: 0.6666666666666666\n",
      "\n"
     ]
    }
   ],
   "source": [
    "X_train, X_test, y_train, y_test=split_train_and_test_data(['sydneysiege','charliehebdo'],['sydneysiege','charliehebdo'])\n",
    "test_models(models,X_train, X_test, y_train, y_test)"
   ]
  },
  {
   "cell_type": "markdown",
   "metadata": {
    "deletable": true,
    "editable": true,
    "slideshow": {
     "slide_type": "slide"
    }
   },
   "source": [
    "### 3. Train on the *ferguson* and testing on *sydneysiege* events:"
   ]
  },
  {
   "cell_type": "code",
   "execution_count": 8,
   "metadata": {
    "collapsed": false,
    "deletable": true,
    "editable": true,
    "slideshow": {
     "slide_type": "fragment"
    }
   },
   "outputs": [
    {
     "name": "stdout",
     "output_type": "stream",
     "text": [
      "LinearSVC_with_L1_Regularization train accuracy: 0.8197530864197531\n",
      "LinearSVC_with_L1_Regularization test accuracy: 0.456242707117853\n",
      "\n",
      "linear_SVM train accuracy: 0.8444444444444444\n",
      "linear_SVM test accuracy: 0.4620770128354726\n",
      "\n",
      "SVM_with_RBF_kernel train accuracy: 0.8839506172839506\n",
      "SVM_with_RBF_kernel test accuracy: 0.48774795799299886\n",
      "\n",
      "SVM_with_sigmoid_kernel train accuracy: 0.6419753086419753\n",
      "SVM_with_sigmoid_kernel test accuracy: 0.5344224037339557\n",
      "\n",
      "KNN_with_k=5 train accuracy: 0.7506172839506173\n",
      "KNN_with_k=5 test accuracy: 0.5215869311551925\n",
      "\n",
      "Decision_Tree_Classifier train accuracy: 1.0\n",
      "Decision_Tree_Classifier test accuracy: 0.5414235705950992\n",
      "\n",
      "Random_Forest_Classifier_n=100_maxDepth=3 train accuracy: 0.8419753086419753\n",
      "Random_Forest_Classifier_n=100_maxDepth=3 test accuracy: 0.5379229871645275\n",
      "\n",
      "AdaBoost_n=100 train accuracy: 1.0\n",
      "AdaBoost_n=100 test accuracy: 0.558926487747958\n",
      "\n",
      "Gaussian_Process_Classifier train accuracy: 1.0\n",
      "Gaussian_Process_Classifier test accuracy: 0.5017502917152858\n",
      "\n"
     ]
    }
   ],
   "source": [
    "X_train, X_test, y_train, y_test=split_train_and_test_data(['germanwings-crash'],['ottawashooting'])\n",
    "test_models(models,X_train, X_test, y_train, y_test)"
   ]
  },
  {
   "cell_type": "markdown",
   "metadata": {
    "deletable": true,
    "editable": true,
    "slideshow": {
     "slide_type": "slide"
    }
   },
   "source": [
    "### 4. Train and test on all of the events:"
   ]
  },
  {
   "cell_type": "code",
   "execution_count": 9,
   "metadata": {
    "collapsed": false,
    "deletable": true,
    "editable": true,
    "slideshow": {
     "slide_type": "fragment"
    }
   },
   "outputs": [
    {
     "name": "stdout",
     "output_type": "stream",
     "text": [
      "LinearSVC_with_L1_Regularization train accuracy: 0.6991670749632533\n",
      "LinearSVC_with_L1_Regularization test accuracy: 0.6608058608058608\n",
      "\n",
      "linear_SVM train accuracy: 0.692062714355708\n",
      "linear_SVM test accuracy: 0.652014652014652\n",
      "\n",
      "SVM_with_RBF_kernel train accuracy: 0.8233708966193043\n",
      "SVM_with_RBF_kernel test accuracy: 0.6886446886446886\n",
      "\n",
      "SVM_with_sigmoid_kernel train accuracy: 0.6215090641842235\n",
      "SVM_with_sigmoid_kernel test accuracy: 0.6043956043956044\n",
      "\n",
      "KNN_with_k=5 train accuracy: 0.8027927486526213\n",
      "KNN_with_k=5 test accuracy: 0.6798534798534799\n",
      "\n",
      "Decision_Tree_Classifier train accuracy: 1.0\n",
      "Decision_Tree_Classifier test accuracy: 0.6813186813186813\n",
      "\n",
      "Random_Forest_Classifier_n=100_maxDepth=3 train accuracy: 0.6876531112199902\n",
      "Random_Forest_Classifier_n=100_maxDepth=3 test accuracy: 0.6586080586080586\n",
      "\n",
      "AdaBoost_n=100 train accuracy: 0.7895639392454679\n",
      "AdaBoost_n=100 test accuracy: 0.7289377289377289\n",
      "\n",
      "Gaussian_Process_Classifier train accuracy: 1.0\n",
      "Gaussian_Process_Classifier test accuracy: 0.6534798534798535\n",
      "\n"
     ]
    }
   ],
   "source": [
    "X_train, X_test, y_train, y_test=split_train_and_test_data(events,events)\n",
    "test_models(models,X_train, X_test, y_train, y_test)"
   ]
  },
  {
   "cell_type": "markdown",
   "metadata": {
    "deletable": true,
    "editable": true,
    "slideshow": {
     "slide_type": "slide"
    }
   },
   "source": [
    "### 5. Train on all of the events except *germanwings-crash* event and test on *germanwings-crash* event:"
   ]
  },
  {
   "cell_type": "code",
   "execution_count": 10,
   "metadata": {
    "collapsed": false,
    "deletable": true,
    "editable": true,
    "slideshow": {
     "slide_type": "fragment"
    }
   },
   "outputs": [
    {
     "name": "stdout",
     "output_type": "stream",
     "text": [
      "LinearSVC_with_L1_Regularization train accuracy: 0.706862356207854\n",
      "LinearSVC_with_L1_Regularization test accuracy: 0.5580246913580247\n",
      "\n",
      "linear_SVM train accuracy: 0.6923839746132487\n",
      "linear_SVM test accuracy: 0.5530864197530864\n",
      "\n",
      "SVM_with_RBF_kernel train accuracy: 0.8216977389924633\n",
      "SVM_with_RBF_kernel test accuracy: 0.4839506172839506\n",
      "\n",
      "SVM_with_sigmoid_kernel train accuracy: 0.6380404601348671\n",
      "SVM_with_sigmoid_kernel test accuracy: 0.5135802469135803\n",
      "\n",
      "KNN_with_k=5 train accuracy: 0.8040460134867117\n",
      "KNN_with_k=5 test accuracy: 0.5111111111111111\n",
      "\n",
      "Decision_Tree_Classifier train accuracy: 1.0\n",
      "Decision_Tree_Classifier test accuracy: 0.5185185185185185\n",
      "\n",
      "Random_Forest_Classifier_n=100_maxDepth=3 train accuracy: 0.7046806822689409\n",
      "Random_Forest_Classifier_n=100_maxDepth=3 test accuracy: 0.5012345679012346\n",
      "\n",
      "AdaBoost_n=100 train accuracy: 0.7949226497421658\n",
      "AdaBoost_n=100 test accuracy: 0.4839506172839506\n",
      "\n",
      "Gaussian_Process_Classifier train accuracy: 1.0\n",
      "Gaussian_Process_Classifier test accuracy: 0.49382716049382713\n",
      "\n"
     ]
    }
   ],
   "source": [
    "X_train, X_test, y_train, y_test=split_train_and_test_data([\"sydneysiege\",\"ottawashooting\",\"ferguson\",\"charliehebdo\"]\n",
    "                                    ,[\"germanwings-crash\"])\n",
    "test_models(models,X_train, X_test, y_train, y_test)"
   ]
  },
  {
   "cell_type": "markdown",
   "metadata": {
    "deletable": true,
    "editable": true,
    "slideshow": {
     "slide_type": "slide"
    }
   },
   "source": [
    "### 6. Train on all of the events and test on *ottawashooting* event:"
   ]
  },
  {
   "cell_type": "code",
   "execution_count": 11,
   "metadata": {
    "collapsed": false,
    "deletable": true,
    "editable": true,
    "slideshow": {
     "slide_type": "fragment"
    }
   },
   "outputs": [
    {
     "name": "stdout",
     "output_type": "stream",
     "text": [
      "LinearSVC_with_L1_Regularization train accuracy: 0.7008792048929664\n",
      "LinearSVC_with_L1_Regularization test accuracy: 0.5023255813953489\n",
      "\n",
      "linear_SVM train accuracy: 0.6880733944954128\n",
      "linear_SVM test accuracy: 0.4790697674418605\n",
      "\n",
      "SVM_with_RBF_kernel train accuracy: 0.8207186544342507\n",
      "SVM_with_RBF_kernel test accuracy: 0.6\n",
      "\n",
      "SVM_with_sigmoid_kernel train accuracy: 0.6267201834862385\n",
      "SVM_with_sigmoid_kernel test accuracy: 0.46511627906976744\n",
      "\n",
      "KNN_with_k=5 train accuracy: 0.7996941896024465\n",
      "KNN_with_k=5 test accuracy: 0.5953488372093023\n",
      "\n",
      "Decision_Tree_Classifier train accuracy: 1.0\n",
      "Decision_Tree_Classifier test accuracy: 0.6139534883720931\n",
      "\n",
      "Random_Forest_Classifier_n=100_maxDepth=3 train accuracy: 0.6821483180428135\n",
      "Random_Forest_Classifier_n=100_maxDepth=3 test accuracy: 0.49767441860465117\n",
      "\n",
      "AdaBoost_n=100 train accuracy: 0.786697247706422\n",
      "AdaBoost_n=100 test accuracy: 0.6232558139534884\n",
      "\n",
      "Gaussian_Process_Classifier train accuracy: 1.0\n",
      "Gaussian_Process_Classifier test accuracy: 0.6139534883720931\n",
      "\n"
     ]
    }
   ],
   "source": [
    "X_train, X_test, y_train, y_test=split_train_and_test_data(events\n",
    "                                    ,[\"ottawashooting\"])\n",
    "test_models(models,X_train, X_test, y_train, y_test)"
   ]
  },
  {
   "cell_type": "markdown",
   "metadata": {
    "deletable": true,
    "editable": true,
    "slideshow": {
     "slide_type": "slide"
    }
   },
   "source": [
    "### 7. Train on all of the events except *ferguson* event and test on *ferguson* event:"
   ]
  },
  {
   "cell_type": "code",
   "execution_count": 12,
   "metadata": {
    "collapsed": false,
    "deletable": true,
    "editable": true,
    "slideshow": {
     "slide_type": "fragment"
    }
   },
   "outputs": [
    {
     "name": "stdout",
     "output_type": "stream",
     "text": [
      "LinearSVC_with_L1_Regularization train accuracy: 0.6912328149650665\n",
      "LinearSVC_with_L1_Regularization test accuracy: 0.6356435643564357\n",
      "\n",
      "linear_SVM train accuracy: 0.6864998873112463\n",
      "linear_SVM test accuracy: 0.6613861386138614\n",
      "\n",
      "SVM_with_RBF_kernel train accuracy: 0.830290736984449\n",
      "SVM_with_RBF_kernel test accuracy: 0.6663366336633664\n",
      "\n",
      "SVM_with_sigmoid_kernel train accuracy: 0.5997295469912103\n",
      "SVM_with_sigmoid_kernel test accuracy: 0.5801980198019802\n",
      "\n",
      "KNN_with_k=5 train accuracy: 0.7942303358124859\n",
      "KNN_with_k=5 test accuracy: 0.5524752475247525\n",
      "\n",
      "Decision_Tree_Classifier train accuracy: 1.0\n",
      "Decision_Tree_Classifier test accuracy: 0.49306930693069306\n",
      "\n",
      "Random_Forest_Classifier_n=100_maxDepth=3 train accuracy: 0.7099391480730223\n",
      "Random_Forest_Classifier_n=100_maxDepth=3 test accuracy: 0.6049504950495049\n",
      "\n",
      "AdaBoost_n=100 train accuracy: 0.7881451431147172\n",
      "AdaBoost_n=100 test accuracy: 0.499009900990099\n",
      "\n",
      "Gaussian_Process_Classifier train accuracy: 1.0\n",
      "Gaussian_Process_Classifier test accuracy: 0.501980198019802\n",
      "\n"
     ]
    }
   ],
   "source": [
    "X_train, X_test, y_train, y_test=split_train_and_test_data([\"germanwings-crash\",\"sydneysiege\",\"ottawashooting\",\"charliehebdo\"]\n",
    "                                    ,[\"ferguson\"])\n",
    "test_models(models,X_train, X_test, y_train, y_test)"
   ]
  },
  {
   "cell_type": "markdown",
   "metadata": {
    "deletable": true,
    "editable": true,
    "slideshow": {
     "slide_type": "slide"
    }
   },
   "source": [
    "## Feature selection based on the weight of the LinearSVC_with_L1_Regularization model\n",
    "We find the most important features as the features that have the 15 most negative weights in the Linear SVM and the 15 most positive weights in the Linear SVM."
   ]
  },
  {
   "cell_type": "code",
   "execution_count": 13,
   "metadata": {
    "collapsed": false,
    "deletable": true,
    "editable": true,
    "scrolled": true,
    "slideshow": {
     "slide_type": "subslide"
    }
   },
   "outputs": [
    {
     "data": {
      "image/png": "[encoded data removed]",
      "text/plain": [
       "<Figure size 432x288 with 1 Axes>"
      ]
     },
     "metadata": {},
     "output_type": "display_data"
    },
    {
     "data": {
      "image/png": "[encoded data removed]",
      "text/plain": [
       "<Figure size 432x288 with 1 Axes>"
      ]
     },
     "metadata": {},
     "output_type": "display_data"
    }
   ],
   "source": [
    "X_train, X_test, y_train, y_test=split_train_and_test_data([\"charliehebdo\"]\n",
    "                                    ,[\"ferguson\"])\n",
    "model=models['linear_SVM']\n",
    "model.fit(X_train,y_train)\n",
    "plt.figure()\n",
    "plt.title(\"Linear-SVM Weights identifting most important features for the 15 most negative weights\")\n",
    "labels = events_threads[\"ferguson\"][\"columns\"].values\n",
    "coefs=model.coef_.flatten()\n",
    "sorted_labels = [label for _,label in sorted(zip(coefs,labels), key=lambda pair: pair[0])]\n",
    "sorted_coefs=np.sort(coefs)\n",
    "ax = sns.barplot(y=sorted_labels[:15], x=sorted_coefs[:15], palette=\"Set2\")\n",
    "ax.set(xlabel=\"Linear-SVM Weights\", ylabel=\"Feature\")\n",
    "plt.show()\n",
    "\n",
    "plt.figure()\n",
    "plt.title(\"Linear-SVM Weights identifting most important features for the 15 most positive weights\")\n",
    "ax = sns.barplot(y=sorted_labels[-15:], x=sorted_coefs[-15:], palette=\"Set2\")\n",
    "ax.set(xlabel=\"Linear-SVM Weights\", ylabel=\"Feature\")\n",
    "plt.show()"
   ]
  }
 ],
 "metadata": {
  "anaconda-cloud": {},
  "celltoolbar": "Slideshow",
  "hide_input": false,
  "kernelspec": {
   "display_name": "Python [default]",
   "language": "python",
   "name": "python3"
  },
  "language_info": {
   "codemirror_mode": {
    "name": "ipython",
    "version": 3
   },
   "file_extension": ".py",
   "mimetype": "text/x-python",
   "name": "python",
   "nbconvert_exporter": "python",
   "pygments_lexer": "ipython3",
   "version": "3.5.6"
  },
  "toc": {
   "base_numbering": 1,
   "nav_menu": {},
   "number_sections": true,
   "sideBar": true,
   "skip_h1_title": false,
   "title_cell": "Table of Contents",
   "title_sidebar": "Contents",
   "toc_cell": false,
   "toc_position": {},
   "toc_section_display": true,
   "toc_window_display": false
  },
  "varInspector": {
   "cols": {
    "lenName": 16,
    "lenType": 16,
    "lenVar": 40
   },
   "kernels_config": {
    "python": {
     "delete_cmd_postfix": "",
     "delete_cmd_prefix": "del ",
     "library": "var_list.py",
     "varRefreshCmd": "print(var_dic_list())"
    },
    "r": {
     "delete_cmd_postfix": ") ",
     "delete_cmd_prefix": "rm(",
     "library": "var_list.r",
     "varRefreshCmd": "cat(var_dic_list()) "
    }
   },
   "types_to_exclude": [
    "module",
    "function",
    "builtin_function_or_method",
    "instance",
    "_Feature"
   ],
   "window_display": false
  }
 },
 "nbformat": 4,
 "nbformat_minor": 1
}
